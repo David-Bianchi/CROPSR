{
 "cells": [
  {
   "cell_type": "code",
   "execution_count": 2,
   "metadata": {},
   "outputs": [],
   "source": [
    "# Import GFF to pandas dataframe\n",
    "import pandas as pd\n",
    "\n",
    "gff_path = \"/Users/daveistanto/Dropbox/UIUCGraduateSchool/Researches/CROPSR/input_files/sbicolor.gff3\""
   ]
  },
  {
   "cell_type": "code",
   "execution_count": null,
   "metadata": {},
   "outputs": [],
   "source": []
  },
  {
   "cell_type": "code",
   "execution_count": 31,
   "metadata": {},
   "outputs": [],
   "source": [
    "# Import function\n",
    "\n",
    "def import_gff(path):\n",
    "    \n",
    "    start_index = 0\n",
    "    with open(path,\"r\") as raw_gff:\n",
    "        gff_lines = raw_gff.readlines()\n",
    "        for index in range(len(gff_lines)):\n",
    "            if (\"##\" not in gff_lines[index]):\n",
    "                start_index = index\n",
    "                break\n",
    "    \n",
    "    col_names = [\"sequence\", \"source\", \"feature\", \"start\", \"end\", \"score\", \"strand\", \"phase\", \"attributes\"]\n",
    "    gff_df = pd.read_csv(gff_path, sep='\\t', skiprows = 3, header = None, names = col_names)\n",
    "    return gff_df"
   ]
  },
  {
   "cell_type": "code",
   "execution_count": 33,
   "metadata": {},
   "outputs": [
    {
     "name": "stdout",
     "output_type": "stream",
     "text": [
      "[('gene', 'ID=Sobic.001G000100.v3.2;Name=Sobic.001G000100;ancestorIdentifier=Sobic.001G000100.v2.1'), ('mRNA', 'ID=Sobic.001G000100.1.v3.2;Name=Sobic.001G000100.1;pacid=37943753;longest=1;ancestorIdentifier=Sobic.001G000100.1.v2.1;Parent=Sobic.001G000100.v3.2'), ('CDS', 'ID=Sobic.001G000100.1.v3.2.CDS.1;Parent=Sobic.001G000100.1.v3.2;pacid=37943753')]\n"
     ]
    }
   ],
   "source": [
    "# Function takes in chromosome and position (int)\n",
    "# Returns feature and attributes for the feature (feature and attributes)\n",
    "\n",
    "def get_features(gff_df, chromosome, pos):\n",
    "    \n",
    "    # Filter according to chromosome\n",
    "    chrom_bool = gff_df[\"sequence\"] == chromosome\n",
    "    \n",
    "    # Filter according to position\n",
    "    start_bool = gff_df[\"start\"] < pos\n",
    "    end_bool = gff_df[\"end\"] > pos\n",
    "    gff_df = gff_df[start_bool & end_bool & chrom_bool]\n",
    "    \n",
    "    # Get features and attributes of filtered DF\n",
    "    feat = gff_df[\"feature\"].tolist()\n",
    "    att = gff_df[\"attributes\"].tolist()\n",
    "\n",
    "    mapped = list(zip(feat, att))\n",
    "    \n",
    "    return(mapped)\n",
    "\n",
    "print(get_features(import_gff(gff_path), \"Chr01\", 2000))"
   ]
  },
  {
   "cell_type": "code",
   "execution_count": null,
   "metadata": {},
   "outputs": [],
   "source": []
  }
 ],
 "metadata": {
  "kernelspec": {
   "display_name": "Python 3",
   "language": "python",
   "name": "python3"
  },
  "language_info": {
   "codemirror_mode": {
    "name": "ipython",
    "version": 3
   },
   "file_extension": ".py",
   "mimetype": "text/x-python",
   "name": "python",
   "nbconvert_exporter": "python",
   "pygments_lexer": "ipython3",
   "version": "3.7.0"
  }
 },
 "nbformat": 4,
 "nbformat_minor": 2
}
