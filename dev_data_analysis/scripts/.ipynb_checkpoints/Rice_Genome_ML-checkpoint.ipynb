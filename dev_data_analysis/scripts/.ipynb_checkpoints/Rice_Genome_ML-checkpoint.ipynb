{
 "cells": [
  {
   "cell_type": "code",
   "execution_count": 1,
   "metadata": {},
   "outputs": [],
   "source": [
    "# Module for machine learning for rice genome data\n",
    "\n",
    "# Import feature extraction functions:\n",
    "import Feature_Extraction as fe\n",
    "\n",
    "# Complete rice dataset paths and import:\n",
    "import pandas as pd\n",
    "\n",
    "com_rice_path = \"/Users/daveistanto/Dropbox/UIUCGraduateSchool/Researches/CROPSR/data_files/complete_rice_data.csv\"\n",
    "com_rice_df = pd.read_csv(com_rice_path)"
   ]
  },
  {
   "cell_type": "code",
   "execution_count": 2,
   "metadata": {},
   "outputs": [],
   "source": [
    "# Filter df that has type float on \"Site_30_bp\" column\n",
    "com_rice_df = com_rice_df[com_rice_df[\"Site_30_bp\"].apply(lambda x: type(x) != float)]"
   ]
  },
  {
   "cell_type": "code",
   "execution_count": 3,
   "metadata": {},
   "outputs": [],
   "source": [
    "# Get vectorized features from com_rice_df[\"Site_30_bp\"]\n",
    "vectorized_feats = com_rice_df[\"Site_30_bp\"].apply(fe.ext_sgRNA_feat)"
   ]
  },
  {
   "cell_type": "code",
   "execution_count": 61,
   "metadata": {},
   "outputs": [],
   "source": [
    "import warnings\n",
    "warnings.filterwarnings('ignore')\n",
    "\n",
    "# Get labels from com_rice_df\n",
    "com_rice_df.sort_values(by=\"Predicted_target_efficiency\", ascending=False, inplace=True)\n",
    "com_rice_df[\"Top_20\"] = \"False\"\n",
    "com_rice_df[\"Top_20\"][0:int(len(com_rice_df)*0.2)] = \"True\"\n",
    "\n",
    "com_rice_df_label = com_rice_df[\"Top_20\"]"
   ]
  },
  {
   "cell_type": "code",
   "execution_count": 62,
   "metadata": {},
   "outputs": [],
   "source": [
    "# Split dataset to 80% Training 20% Test\n",
    "from sklearn.model_selection import train_test_split \n",
    "import numpy as np\n",
    "\n",
    "X_train, X_test, y_train, y_test = train_test_split(vectorized_feats.values, com_rice_df_label.values, test_size=0.2, random_state=0)\n",
    "\n"
   ]
  },
  {
   "cell_type": "code",
   "execution_count": 63,
   "metadata": {},
   "outputs": [],
   "source": [
    "# Make nestedf nd array to 2d np array\n",
    "X_train = np.array(X_train.tolist())\n",
    "y_train = np.array(y_train.tolist())\n",
    "X_test = np.array(X_test.tolist())\n",
    "y_test = np.array(y_test.tolist())\n"
   ]
  },
  {
   "cell_type": "code",
   "execution_count": 64,
   "metadata": {},
   "outputs": [
    {
     "data": {
      "text/plain": [
       "LinearSVC(C=1.0, class_weight=None, dual=False, fit_intercept=True,\n",
       "     intercept_scaling=1, loss='squared_hinge', max_iter=1000,\n",
       "     multi_class='ovr', penalty='l1', random_state=None, tol=0.0001,\n",
       "     verbose=0)"
      ]
     },
     "execution_count": 64,
     "metadata": {},
     "output_type": "execute_result"
    }
   ],
   "source": [
    "# SVM Machine learning, with L-1 regularization, training part\n",
    "\n",
    "from sklearn.svm import LinearSVC\n",
    "\n",
    "clf = LinearSVC(penalty='l2', loss='squared_hinge', dual=False)\n",
    "\n",
    "clf.fit(X_train, y_train)"
   ]
  },
  {
   "cell_type": "code",
   "execution_count": 65,
   "metadata": {},
   "outputs": [
    {
     "name": "stdout",
     "output_type": "stream",
     "text": [
      "0.7994209039548023\n",
      "['False' 'True']\n"
     ]
    }
   ],
   "source": [
    "# SVM Accuracies\n",
    "pred_train = clf.predict(X_train)\n",
    "pred_test = clf.predict(X_test)\n",
    "\n",
    "from sklearn.metrics import accuracy_score\n",
    "\n",
    "#print(\"Training data accuracy:\", accuracy_score(y_train, pred_train))\n",
    "#print(\"Test data accuracy:\", accuracy_score(y_test, pred_test))\n",
    "#print(\"Intercept\", clf.intercept_)\n",
    "#print(\"Coefficient / Weight Vector:\", clf.coef_)\n",
    "\n",
    "print(clf.score(X_train, y_train))\n",
    "print(clf.classes_)\n",
    "\n"
   ]
  },
  {
   "cell_type": "code",
   "execution_count": 66,
   "metadata": {},
   "outputs": [
    {
     "name": "stdout",
     "output_type": "stream",
     "text": [
      "0.6795338983050847\n",
      "0.681995367493362\n"
     ]
    }
   ],
   "source": [
    "from sklearn.dummy import DummyClassifier\n",
    "\n",
    "dummy_clf = DummyClassifier().fit(X_train, y_train)\n",
    "\n",
    "d_pred_train = dummy_clf.predict(X_train)\n",
    "d_pred_test = dummy_clf.predict(X_test)\n",
    "\n",
    "print(accuracy_score(d_pred_train, y_train))\n",
    "print(accuracy_score(d_pred_test, y_test))\n",
    "\n"
   ]
  },
  {
   "cell_type": "code",
   "execution_count": 67,
   "metadata": {},
   "outputs": [
    {
     "name": "stdout",
     "output_type": "stream",
     "text": [
      "          sg_id                 SG20_PAM           Locus  Chr  Position  \\\n",
      "8675    1728806  ACATTAAGCGTACAAGTCTTCGG  LOC_Os01g57082    1  32994218   \n",
      "52004  10774678  TCTGGTTTTGGTCCCGTATTGGG  LOC_Os06g38600    6  22870887   \n",
      "25012   4591837  CGCCCCCATGGGCCTACCGTCGG  LOC_Os03g17380    3   9668629   \n",
      "18585   3588567  AAAACATCAAGTGTATAGATTGG  LOC_Os02g43780    2  26413685   \n",
      "58782  12390184  CAGGGTTTTGCTGGACACATAGG  LOC_Os07g36980    7  22140944   \n",
      "\n",
      "      Strand  Relative_postion_in_locus  Predicted_target_efficiency  \\\n",
      "8675       +                       1758                        0.308   \n",
      "52004      -                        298                        0.305   \n",
      "25012      -                        439                        0.304   \n",
      "18585      +                       2103                        0.304   \n",
      "58782      -                        672                        0.301   \n",
      "\n",
      "       Group_id               Oligo sequence for synthesis (5’-3’)  \\\n",
      "8675         76  TGATGTGTGCTCTTCTCTGTTGTCATGATCGAAGGTCTCATGTGTG...   \n",
      "52004        29  TCGAGCTCGGAGCGGCATTAGTGATAGATCGAAGGTCTCATGTGTG...   \n",
      "25012        90  TGGGCAACACCAATATGAGTATGTCTGATCGAAGGTCTCATGTGTG...   \n",
      "18585        46  TGGTTGCGTGAGTCCTGCGAAACCTAGATCGAAGGTCTCATGTGTG...   \n",
      "58782         9  TTCCTGGCCGGCTACTGTCAACGTTAGATCGAAGGTCTCATGTGTG...   \n",
      "\n",
      "       Actual_relative_position_in_respective_strand  \\\n",
      "8675                                          9219.0   \n",
      "52004                                           90.0   \n",
      "25012                                           48.0   \n",
      "18585                                         2087.0   \n",
      "58782                                          170.0   \n",
      "\n",
      "                           Site_30_bp Top_20  \n",
      "8675   GGAAGACATTAAGCGTACAAGTCTTCGGCG  False  \n",
      "52004  GTTGTTCTGGTTTTGGTCCCGTATTGGGAT  False  \n",
      "25012  ATTCCCGCCCCCATGGGCCTACCGTCGGCG  False  \n",
      "18585  ACAGGAAAACATCAAGTGTATAGATTGGTC  False  \n",
      "58782  ATCTACAGGGTTTTGCTGGACACATAGGAG  False  \n"
     ]
    }
   ],
   "source": [
    "print(com_rice_df.tail())\n",
    "\n",
    "\n"
   ]
  },
  {
   "cell_type": "code",
   "execution_count": 68,
   "metadata": {},
   "outputs": [
    {
     "name": "stdout",
     "output_type": "stream",
     "text": [
      "True score mean -8508.815394487247\n",
      "False score mean -33887.25709935353\n"
     ]
    }
   ],
   "source": [
    "# Find score correlated to label\n",
    "true_scores = []\n",
    "false_scores = []\n",
    "for vec_index in range(len(X_train)):\n",
    "    score = clf.intercept_ + np.dot(clf.coef_, X_train[vec_index])\n",
    "    if d_pred_train[vec_index] == \"True\":\n",
    "        true_scores.append(score)\n",
    "        \n",
    "    else:\n",
    "        false_scores.append(score)\n",
    "        \n",
    "print(\"True score mean\", np.sum(np.array(true_scores)))\n",
    "print(\"False score mean\", np.sum(np.array(false_scores)))\n",
    "\n",
    "\n",
    "#print(clf.intercept_ + np.dot(clf.coef_,X_train[8]))"
   ]
  },
  {
   "cell_type": "code",
   "execution_count": null,
   "metadata": {},
   "outputs": [],
   "source": []
  }
 ],
 "metadata": {
  "kernelspec": {
   "display_name": "Python 3",
   "language": "python",
   "name": "python3"
  },
  "language_info": {
   "codemirror_mode": {
    "name": "ipython",
    "version": 3
   },
   "file_extension": ".py",
   "mimetype": "text/x-python",
   "name": "python",
   "nbconvert_exporter": "python",
   "pygments_lexer": "ipython3",
   "version": "3.7.0"
  }
 },
 "nbformat": 4,
 "nbformat_minor": 2
}
