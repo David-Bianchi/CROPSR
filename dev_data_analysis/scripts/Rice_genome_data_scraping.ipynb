{
 "cells": [
  {
   "cell_type": "code",
   "execution_count": 1,
   "metadata": {},
   "outputs": [],
   "source": [
    "# Module for getting 30 bp location near cut site, then adding it to the dataset as extra column\n",
    "import pandas as pd"
   ]
  },
  {
   "cell_type": "code",
   "execution_count": 2,
   "metadata": {},
   "outputs": [],
   "source": [
    "# Import original dataset\n",
    "rice_sgRNA_data_path = \"/Users/daveistanto/Dropbox/UIUCGraduateSchool/Researches/CROPSR/data_files/rice_data.csv\"\n",
    "rice_df = pd.read_csv(rice_sgRNA_data_path, skiprows=1)"
   ]
  },
  {
   "cell_type": "code",
   "execution_count": 3,
   "metadata": {},
   "outputs": [],
   "source": [
    "# Get rice genome fasta file, separated per locus, and make dictionary out of it\n",
    "\n",
    "rice_loc_seq = \"/Users/daveistanto/Dropbox/UIUCGraduateSchool/Researches/CROPSR/data_files/Rice_genome/all.seq\"\n",
    "with open(rice_loc_seq) as loc_file:\n",
    "    loc_data = loc_file.readlines()\n",
    "    loc_seq_string = \"\"\n",
    "    loc_seq_dict = dict()\n",
    "    for line_index in range(len(loc_data)):\n",
    "        if loc_data[line_index][0] == \">\":\n",
    "            curr_locus = loc_data[line_index][1:15]\n",
    "        else:\n",
    "            loc_seq_string += loc_data[line_index][:-1]\n",
    "            if line_index == len(loc_data) - 1 or loc_data[line_index + 1][0] == \">\":\n",
    "                loc_seq_dict[curr_locus] = loc_seq_string\n",
    "                loc_seq_string = \"\""
   ]
  },
  {
   "cell_type": "code",
   "execution_count": 4,
   "metadata": {},
   "outputs": [],
   "source": [
    "# Get complement strand\n",
    "\n",
    "def get_complement(input_strand):\n",
    "    rev_strand = input_strand[::-1]\n",
    "    com_strand = []\n",
    "    for base in rev_strand:\n",
    "        if base == \"A\":\n",
    "            com_strand.append(\"T\")\n",
    "        elif base == \"T\":\n",
    "            com_strand.append(\"A\")\n",
    "        elif base == \"G\":\n",
    "            com_strand.append(\"C\")\n",
    "        elif base == \"C\":\n",
    "            com_strand.append(\"G\")\n",
    "    com_strand = ''.join(com_strand)\n",
    "    return com_strand\n",
    "    "
   ]
  },
  {
   "cell_type": "code",
   "execution_count": 5,
   "metadata": {},
   "outputs": [],
   "source": [
    "# Make complement strand dictionary\n",
    "comp_dict = dict()\n",
    "\n",
    "for k, v in loc_seq_dict.items():\n",
    "    comp_dict[k] = get_complement(v)"
   ]
  },
  {
   "cell_type": "code",
   "execution_count": 6,
   "metadata": {},
   "outputs": [
    {
     "name": "stdout",
     "output_type": "stream",
     "text": [
      "0.0\n",
      "0.1\n",
      "0.2\n"
     ]
    },
    {
     "name": "stderr",
     "output_type": "stream",
     "text": [
      "/usr/local/lib/python3.7/site-packages/ipykernel_launcher.py:23: SettingWithCopyWarning: \n",
      "A value is trying to be set on a copy of a slice from a DataFrame\n",
      "\n",
      "See the caveats in the documentation: http://pandas.pydata.org/pandas-docs/stable/indexing.html#indexing-view-versus-copy\n",
      "/usr/local/lib/python3.7/site-packages/ipykernel_launcher.py:24: SettingWithCopyWarning: \n",
      "A value is trying to be set on a copy of a slice from a DataFrame\n",
      "\n",
      "See the caveats in the documentation: http://pandas.pydata.org/pandas-docs/stable/indexing.html#indexing-view-versus-copy\n",
      "/usr/local/lib/python3.7/site-packages/ipykernel_launcher.py:14: SettingWithCopyWarning: \n",
      "A value is trying to be set on a copy of a slice from a DataFrame\n",
      "\n",
      "See the caveats in the documentation: http://pandas.pydata.org/pandas-docs/stable/indexing.html#indexing-view-versus-copy\n",
      "  \n",
      "/usr/local/lib/python3.7/site-packages/ipykernel_launcher.py:15: SettingWithCopyWarning: \n",
      "A value is trying to be set on a copy of a slice from a DataFrame\n",
      "\n",
      "See the caveats in the documentation: http://pandas.pydata.org/pandas-docs/stable/indexing.html#indexing-view-versus-copy\n",
      "  from ipykernel import kernelapp as app\n"
     ]
    },
    {
     "name": "stdout",
     "output_type": "stream",
     "text": [
      "0.3\n",
      "0.4\n",
      "0.5\n",
      "0.6\n",
      "0.7\n",
      "0.8\n",
      "0.9\n"
     ]
    }
   ],
   "source": [
    "# Iterate over rice_df rows, and add actual relative position and 30 bp site\n",
    "rice_df[\"Actual_relative_position_in_respective_strand\"] = \"NA\"\n",
    "rice_df[\"Site_30_bp\"] = \"NA\"\n",
    "non_found_index = []\n",
    "\n",
    "for i, row in rice_df.iterrows():\n",
    "    print(i/len(rice_df))\n",
    "    if (row[\"Strand\"] == \"+\"):\n",
    "        try:\n",
    "            # Get index of sequence in the locus, 5' - 3' strand\n",
    "            act_loc_pos = loc_seq_dict[row[\"Locus\"]].index(row[\"SG20_PAM\"])\n",
    "            site_30_bp = loc_seq_dict[row[\"Locus\"]][act_loc_pos - 5: act_loc_pos + 25]\n",
    "            rice_df[\"Actual_relative_position_in_respective_strand\"][i] = act_loc_pos\n",
    "            rice_df[\"Site_30_bp\"][i] = site_30_bp\n",
    "        except:\n",
    "            non_found_index.append(i)\n",
    "    elif (row[\"Strand\"] == \"-\"):\n",
    "        try:\n",
    "            # Get index of sequence in the locus, 3' - 5' strand\n",
    "            act_loc_pos = comp_dict[row[\"Locus\"]].index(row[\"SG20_PAM\"])\n",
    "            site_30_bp = comp_dict[row[\"Locus\"]][act_loc_pos - 5: act_loc_pos + 25]\n",
    "            rice_df[\"Actual_relative_position_in_respective_strand\"][i] = act_loc_pos\n",
    "            rice_df[\"Site_30_bp\"][i] = site_30_bp\n",
    "        except:\n",
    "            non_found_index.append(i)"
   ]
  },
  {
   "cell_type": "code",
   "execution_count": 10,
   "metadata": {},
   "outputs": [
    {
     "name": "stdout",
     "output_type": "stream",
     "text": [
      "[]\n"
     ]
    }
   ],
   "source": [
    "# Write new csv to secondary memory (Storage) and print non_found_index to stdout\n",
    "print(non_found_index)\n",
    "rice_df.to_csv(\"/Users/daveistanto/Dropbox/UIUCGraduateSchool/Researches/CROPSR/data_files/complete_rice_data.csv\", index=False)\n"
   ]
  },
  {
   "cell_type": "code",
   "execution_count": null,
   "metadata": {},
   "outputs": [],
   "source": []
  },
  {
   "cell_type": "code",
   "execution_count": null,
   "metadata": {},
   "outputs": [],
   "source": []
  }
 ],
 "metadata": {
  "kernelspec": {
   "display_name": "Python 3",
   "language": "python",
   "name": "python3"
  },
  "language_info": {
   "codemirror_mode": {
    "name": "ipython",
    "version": 3
   },
   "file_extension": ".py",
   "mimetype": "text/x-python",
   "name": "python",
   "nbconvert_exporter": "python",
   "pygments_lexer": "ipython3",
   "version": "3.7.0"
  }
 },
 "nbformat": 4,
 "nbformat_minor": 2
}
