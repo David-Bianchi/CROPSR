{
 "cells": [
  {
   "cell_type": "code",
   "execution_count": 1,
   "metadata": {},
   "outputs": [],
   "source": [
    "# Machine learning pipeline for Doench Data, supplementary table 7\n",
    "\n",
    "import pandas as pd\n",
    "\n",
    "supp_7_path = \"/Users/daveistanto/Dropbox/UIUCGraduateSchool/Researches/CROPSR_head_dir/data_files/supp_table_7.csv\"\n",
    "supp_7_df = pd.read_csv(supp_7_path)"
   ]
  },
  {
   "cell_type": "code",
   "execution_count": 2,
   "metadata": {},
   "outputs": [],
   "source": [
    "# Sort based on Gene % Rank, take top 20\n",
    "import warnings\n",
    "warnings.filterwarnings('ignore')\n",
    "\n",
    "supp_7_df.sort_values(by=\"Gene % Rank\", ascending=False, inplace=True)\n",
    "supp_7_df[\"Top 20%\"] = False\n",
    "supp_7_df[\"Top 20%\"][0:int(len(supp_7_df)*0.2)] = True\n"
   ]
  },
  {
   "cell_type": "code",
   "execution_count": 3,
   "metadata": {},
   "outputs": [],
   "source": [
    "# Sort based on Gene % Rank but group by Gene\n",
    "import warnings\n",
    "warnings.filterwarnings('ignore')\n",
    "unique_gene_list = list(set(supp_7_df[\"Gene\"]))\n",
    "\n",
    "supp_7_df[\"Top 20%\"] = False\n",
    "\n",
    "for gene in unique_gene_list:\n",
    "    supp_7_df_temp = supp_7_df[supp_7_df[\"Gene\"] == gene]\n",
    "    supp_7_df_temp[\"Top 20%\"][0:int(len(supp_7_df_temp)*0.2)] = True\n",
    "    supp_7_df[supp_7_df[\"Gene\"] == gene] = supp_7_df_temp\n"
   ]
  },
  {
   "cell_type": "code",
   "execution_count": 3,
   "metadata": {},
   "outputs": [
    {
     "name": "stdout",
     "output_type": "stream",
     "text": [
      "Index(['Sequence', 'Expanded Sequence', 'Position', 'Type', 'Gene',\n",
      "       'Transcript', 'Strand', 'Gene % Rank', 'sgRNA Score', 'Top 20%'],\n",
      "      dtype='object')\n"
     ]
    }
   ],
   "source": [
    "# Extract features\n",
    "\n",
    "import Feature_Extraction as fe\n",
    "\n",
    "feat_vec = supp_7_df[\"Expanded Sequence\"].apply(fe.ext_sgRNA_feat)\n",
    "\n",
    "print(supp_7_df.columns)"
   ]
  },
  {
   "cell_type": "code",
   "execution_count": 4,
   "metadata": {},
   "outputs": [],
   "source": [
    "# Split dataset to 80% Training 20% Test\n",
    "from sklearn.model_selection import train_test_split \n",
    "import numpy as np\n",
    "\n",
    "vec_train, vec_test, label_train, label_test = train_test_split(feat_vec.values, supp_7_df[\"Top 20%\"].values, test_size=0.2, random_state=0)"
   ]
  },
  {
   "cell_type": "code",
   "execution_count": 5,
   "metadata": {},
   "outputs": [
    {
     "data": {
      "text/plain": [
       "LinearSVC(C=1.0, class_weight=None, dual=False, fit_intercept=True,\n",
       "     intercept_scaling=1, loss='squared_hinge', max_iter=1000,\n",
       "     multi_class='ovr', penalty='l1', random_state=None, tol=0.0001,\n",
       "     verbose=0)"
      ]
     },
     "execution_count": 5,
     "metadata": {},
     "output_type": "execute_result"
    }
   ],
   "source": [
    "# Eliminate most features: SVM with L-1 regularization constant\n",
    "\n",
    "from sklearn.svm import LinearSVC\n",
    "\n",
    "# Convert nested np.array to 2d np.array\n",
    "vec_train = np.array(list(vec_train))\n",
    "vec_test = np.array(list(vec_test))\n",
    "\n",
    "SVM_clf = LinearSVC(penalty='l1', loss='squared_hinge', dual=False)\n",
    "SVM_clf.fit(vec_train, label_train)"
   ]
  },
  {
   "cell_type": "code",
   "execution_count": 6,
   "metadata": {},
   "outputs": [
    {
     "name": "stdout",
     "output_type": "stream",
     "text": [
      "SVM Training accuracy: 0.8994565217391305\n",
      "SVM Test accuracy: 0.7235772357723578\n"
     ]
    }
   ],
   "source": [
    "# SVM Accuracies\n",
    "\n",
    "from sklearn.metrics import accuracy_score\n",
    "\n",
    "pred_train_SVM = SVM_clf.predict(vec_train)\n",
    "pred_test_SVM = SVM_clf.predict(vec_test)\n",
    "\n",
    "print(\"SVM Training accuracy:\", accuracy_score(pred_train_SVM, label_train))\n",
    "print(\"SVM Test accuracy:\", accuracy_score(pred_test_SVM, label_test))\n"
   ]
  },
  {
   "cell_type": "code",
   "execution_count": 7,
   "metadata": {
    "scrolled": true
   },
   "outputs": [
    {
     "name": "stdout",
     "output_type": "stream",
     "text": [
      "SVM Positive score: [0.73284758]\n",
      "SVM Negative score: [-0.39881745]\n",
      "307\n"
     ]
    }
   ],
   "source": [
    "# Diagnostics\n",
    "\n",
    "print(\"SVM Positive score:\", SVM_clf.intercept_ + np.dot(SVM_clf.coef_, (vec_train[label_train == True][0])))\n",
    "print(\"SVM Negative score:\", SVM_clf.intercept_ + np.dot(SVM_clf.coef_, (vec_train[label_train != True][0])))\n",
    "\n",
    "print(len(set(SVM_clf.coef_[0])))"
   ]
  },
  {
   "cell_type": "code",
   "execution_count": 8,
   "metadata": {},
   "outputs": [],
   "source": [
    "# Function for filtering, make vectorized version\n",
    "\n",
    "def filter_vec(input_vec, filter_bool):\n",
    "    return input_vec[filter_bool[0]]"
   ]
  },
  {
   "cell_type": "code",
   "execution_count": 9,
   "metadata": {},
   "outputs": [],
   "source": [
    "# Filter for non-0 weights, and only use corresponding features\n",
    "\n",
    "non_0_filter = (SVM_clf.coef_ != 0)\n",
    "non_0_weights = SVM_clf.coef_[non_0_filter]\n",
    "filtered_vec_train = np.apply_along_axis(filter_vec, 1, vec_train, non_0_filter)\n",
    "filtered_vec_test = np.apply_along_axis(filter_vec, 1, vec_test, non_0_filter)"
   ]
  },
  {
   "cell_type": "code",
   "execution_count": 10,
   "metadata": {},
   "outputs": [
    {
     "data": {
      "text/plain": [
       "LogisticRegression(C=1.0, class_weight=None, dual=False, fit_intercept=True,\n",
       "          intercept_scaling=1, max_iter=100, multi_class='warn',\n",
       "          n_jobs=None, penalty='l2', random_state=None, solver='warn',\n",
       "          tol=0.0001, verbose=0, warm_start=False)"
      ]
     },
     "execution_count": 10,
     "metadata": {},
     "output_type": "execute_result"
    }
   ],
   "source": [
    "# Logistic Regression using filtered weights\n",
    "\n",
    "from sklearn.linear_model import LogisticRegression\n",
    "LR_clf = LogisticRegression()\n",
    "LR_clf.fit(filtered_vec_train, label_train)"
   ]
  },
  {
   "cell_type": "code",
   "execution_count": 11,
   "metadata": {},
   "outputs": [
    {
     "name": "stdout",
     "output_type": "stream",
     "text": [
      "LR Training accuracy: 0.8967391304347826\n",
      "LR Test accuracy: 0.7127371273712737\n"
     ]
    }
   ],
   "source": [
    "# Logistic Regression Accuracies\n",
    "\n",
    "pred_train_LR = LR_clf.predict(filtered_vec_train)\n",
    "pred_test_LR = LR_clf.predict(filtered_vec_test)\n",
    "\n",
    "print(\"LR Training accuracy:\", accuracy_score(pred_train_LR, label_train))\n",
    "print(\"LR Test accuracy:\", accuracy_score(pred_test_LR, label_test))"
   ]
  },
  {
   "cell_type": "code",
   "execution_count": 12,
   "metadata": {},
   "outputs": [],
   "source": [
    "# Function to get scores of each input vector\n",
    "import math\n",
    "\n",
    "def get_sgRNA_scores(input_vector, incpt, weights):\n",
    "    raw_score = incpt + np.dot(input_vector, weights)\n",
    "    prob_top_20 = 1 / (1 + (math.e)**(-1 * raw_score))\n",
    "    \n",
    "    return prob_top_20\n"
   ]
  },
  {
   "cell_type": "code",
   "execution_count": 13,
   "metadata": {},
   "outputs": [],
   "source": [
    "# Get scores of each feature\n",
    "\n",
    "feat_vec = np.array(list(feat_vec))\n",
    "filtered_feat_vec = np.apply_along_axis(filter_vec, 1, feat_vec, non_0_filter)\n",
    "supp_7_df[\"exp_score\"] = np.apply_along_axis(get_sgRNA_scores, 1, filtered_feat_vec, LR_clf.intercept_, LR_clf.coef_[0])"
   ]
  },
  {
   "cell_type": "code",
   "execution_count": 14,
   "metadata": {
    "scrolled": false
   },
   "outputs": [],
   "source": [
    "# Sort df by exp score\n",
    "\n",
    "Doench_rank = supp_7_df.sort_values(by=\"Gene % Rank\", ascending=False, inplace=False)\n",
    "CROPSR_rank = supp_7_df.sort_values(by=\"exp_score\", ascending=False, inplace=False)\n",
    "\n",
    "#Doench_rank.to_csv(\"/Users/daveistanto/Dropbox/UIUCGraduateSchool/Researches/CROPSR/data_files/doench_ranked.csv\", index=False)\n",
    "#CROPSR_rank.to_csv(\"/Users/daveistanto/Dropbox/UIUCGraduateSchool/Researches/CROPSR/data_files/CROPSR_ranked.csv\", index=False)"
   ]
  },
  {
   "cell_type": "code",
   "execution_count": 15,
   "metadata": {},
   "outputs": [
    {
     "name": "stdout",
     "output_type": "stream",
     "text": [
      "Correlation coefficient:  0.4724535626309528\n",
      "Correlation coefficient:  0.5375776837780317\n"
     ]
    }
   ],
   "source": [
    "# Scatter plot sgRNA vs Doench Gene rank\n",
    "\n",
    "import matplotlib.pyplot as plt\n",
    "from scipy.stats.stats import pearsonr\n",
    "\n",
    "plt.figure(1)\n",
    "plt.scatter(Doench_rank[\"Gene % Rank\"].values, Doench_rank[\"sgRNA Score\"].values)\n",
    "plt.ylabel(\"Doench sgRNA Score \")\n",
    "plt.xlabel(\"Gene % Rank\")\n",
    "plt.title(\"Gene % Rank vs Doench sgRNA Score\")\n",
    "\n",
    "print(\"Correlation coefficient: \", pearsonr(Doench_rank[\"Gene % Rank\"].values, Doench_rank[\"sgRNA Score\"].values)[0])\n",
    "\n",
    "plt.figure(2)\n",
    "plt.scatter(CROPSR_rank[\"Gene % Rank\"].values, CROPSR_rank[\"exp_score\"].values)\n",
    "plt.ylabel(\"CROPSR sgRNA Score \")\n",
    "plt.xlabel(\"Gene % Rank\")\n",
    "plt.title(\"Gene % Rank vs CROPSR sgRNA Score\")\n",
    "\n",
    "print(\"Correlation coefficient: \", pearsonr(CROPSR_rank[\"Gene % Rank\"].values, CROPSR_rank[\"exp_score\"].values)[0])"
   ]
  },
  {
   "cell_type": "code",
   "execution_count": null,
   "metadata": {},
   "outputs": [],
   "source": []
  },
  {
   "cell_type": "code",
   "execution_count": null,
   "metadata": {},
   "outputs": [],
   "source": []
  },
  {
   "cell_type": "code",
   "execution_count": null,
   "metadata": {},
   "outputs": [],
   "source": []
  }
 ],
 "metadata": {
  "kernelspec": {
   "display_name": "Python 3",
   "language": "python",
   "name": "python3"
  },
  "language_info": {
   "codemirror_mode": {
    "name": "ipython",
    "version": 3
   },
   "file_extension": ".py",
   "mimetype": "text/x-python",
   "name": "python",
   "nbconvert_exporter": "python",
   "pygments_lexer": "ipython3",
   "version": "3.7.0"
  }
 },
 "nbformat": 4,
 "nbformat_minor": 2
}
